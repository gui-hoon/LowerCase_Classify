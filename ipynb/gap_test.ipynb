{
 "cells": [
  {
   "cell_type": "code",
   "execution_count": 3,
   "id": "7e1b5640",
   "metadata": {},
   "outputs": [],
   "source": [
    "import torchvision.transforms as T \n",
    "import torch.nn.init\n",
    "from torch.utils.data import DataLoader\n",
    "from torchvision import datasets"
   ]
  },
  {
   "cell_type": "code",
   "execution_count": 4,
   "id": "e52c6176",
   "metadata": {},
   "outputs": [],
   "source": [
    "device = \"cuda\" if torch.cuda.is_available() else \"cpu\"\n",
    "\n",
    "# 랜덤 시드 고정\n",
    "torch.manual_seed(777)\n",
    "\n",
    "# GPU 사용 가능일 경우 랜덤 시드 고정\n",
    "if device == \"cuda\": \n",
    "    torch.cuda.manual_seed_all(777)"
   ]
  },
  {
   "cell_type": "code",
   "execution_count": 6,
   "id": "d072c63e",
   "metadata": {},
   "outputs": [],
   "source": [
    "batch_size = 100\n",
    "custom_test_dataset = datasets.ImageFolder(root=\"../data/sset/test\", transform=T.Compose([T.Grayscale(1),\n",
    "                                                                                    T.ToTensor()\n",
    "                                                                                    ]))\n",
    "\n",
    "test_loader = DataLoader(dataset=custom_test_dataset,\n",
    "                                          batch_size=batch_size,\n",
    "                                          shuffle=False,\n",
    "                                          drop_last=False)"
   ]
  },
  {
   "cell_type": "code",
   "execution_count": 7,
   "id": "5dc0e21f",
   "metadata": {},
   "outputs": [],
   "source": [
    "class CNN(torch.nn.Module):\n",
    "    def __init__(self): \n",
    "        super(CNN, self).__init__()\n",
    "        self.layer1 = self.conv1(1, 128) # (_, 14, 14, 128)\n",
    "        self.layer2 = self.conv2(128, 256) # (_, 7, 7, 256)\n",
    "        self.layer3 = self.conv3(256, 512) # (_, 4, 4, 512)\n",
    "        self.gap = self.global_avg_pool(512, 26) # (_, 1, 1, 26)\n",
    "\n",
    "    def forward(self, x):\n",
    "        out = self.layer1(x)\n",
    "        out = self.layer2(out)\n",
    "        out = self.layer3(out)\n",
    "        out = self.gap(out)\n",
    "        out = out.view(-1, 26)\n",
    "        return out"
   ]
  },
  {
   "cell_type": "code",
   "execution_count": 8,
   "id": "deee3207",
   "metadata": {},
   "outputs": [
    {
     "name": "stdout",
     "output_type": "stream",
     "text": [
      "Accuracy: tensor(0.9987, device='cuda:0')\n"
     ]
    }
   ],
   "source": [
    "# 학습을 진행하지 않을 것이므로 torch.no_grad()\n",
    "Accuracy = 0\n",
    "model = torch.load(\"../weight/best.pth\")\n",
    "model = model.eval()\n",
    "\n",
    "with torch.no_grad():\n",
    "    for num, data in enumerate(test_loader):\n",
    "        X_test, Y_test = data\n",
    "        X_test = X_test.to(device)\n",
    "        Y_test = Y_test.to(device)\n",
    "\n",
    "        prediction = model(X_test)\n",
    "        correct_prediction = torch.argmax(prediction, 1) == Y_test\n",
    "        accuracy = correct_prediction.float().mean() \n",
    "        Accuracy += accuracy / len(test_loader)\n",
    "\n",
    "    print('Accuracy:', Accuracy)"
   ]
  },
  {
   "cell_type": "code",
   "execution_count": null,
   "id": "01703d31",
   "metadata": {},
   "outputs": [],
   "source": []
  }
 ],
 "metadata": {
  "kernelspec": {
   "display_name": "open-adas",
   "language": "python",
   "name": "open-adas"
  },
  "language_info": {
   "codemirror_mode": {
    "name": "ipython",
    "version": 3
   },
   "file_extension": ".py",
   "mimetype": "text/x-python",
   "name": "python",
   "nbconvert_exporter": "python",
   "pygments_lexer": "ipython3",
   "version": "3.8.10"
  }
 },
 "nbformat": 4,
 "nbformat_minor": 5
}
